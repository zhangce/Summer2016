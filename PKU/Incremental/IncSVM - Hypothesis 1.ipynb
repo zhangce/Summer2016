{
 "cells": [
  {
   "cell_type": "markdown",
   "metadata": {},
   "source": [
    "### Hypothesis\n",
    "\n",
    "Whether a data point should be updated in SVM can be casted as a nearest neighbor problem.\n",
    "\n",
    "### Expected Result\n",
    "\n",
    "If the hypothesis is true, we should observe that there exists a constant C, such at all data \n",
    "points with distance smaller than C should be updated, while all data points with distance\n",
    "larger than C should not be updated.\n",
    "\n",
    "That is, the plot of (distance vs. is_update) should be a stage\n",
    "\n",
    "### TODO\n",
    "\n",
    "As we will see, when RCV1 converges, only 40% data points need update. This means that we can be at most 2x faster on RCV1. This is because the final training accuracy on RCV1 is high, we might want to understand the level of final accuracy of our target workload\n",
    "   - This should be able to be fixed by a hybrid index"
   ]
  },
  {
   "cell_type": "code",
   "execution_count": 1,
   "metadata": {
    "collapsed": false
   },
   "outputs": [],
   "source": [
    "%matplotlib inline\n",
    "\"\"\"\n",
    "First, Prepare RCV1 Data\n",
    "\"\"\"\n",
    "from sklearn.datasets import fetch_rcv1\n",
    "import numpy as np\n",
    "import scipy.sparse as sparse\n",
    "import matplotlib.pyplot as plt"
   ]
  },
  {
   "cell_type": "code",
   "execution_count": 2,
   "metadata": {
    "collapsed": false
   },
   "outputs": [],
   "source": [
    "rcv1 = fetch_rcv1()"
   ]
  },
  {
   "cell_type": "code",
   "execution_count": 3,
   "metadata": {
    "collapsed": false
   },
   "outputs": [],
   "source": [
    "CCAT = 33\n",
    "ECAT = 59\n",
    "GCAT = 70\n",
    "MCAT = 102"
   ]
  },
  {
   "cell_type": "code",
   "execution_count": 4,
   "metadata": {
    "collapsed": false
   },
   "outputs": [],
   "source": [
    "CCAT_IDXS = np.where((rcv1.target[:,CCAT]==1).todense())[0]\n",
    "ECAT_IDXS = np.where((rcv1.target[:,ECAT]==1).todense())[0]\n",
    "GCAT_IDXS = np.where((rcv1.target[:,GCAT]==1).todense())[0]\n",
    "MCAT_IDXS = np.where((rcv1.target[:,MCAT]==1).todense())[0]"
   ]
  },
  {
   "cell_type": "code",
   "execution_count": 6,
   "metadata": {
    "collapsed": false
   },
   "outputs": [
    {
     "name": "stdout",
     "output_type": "stream",
     "text": [
      "\n"
     ]
    }
   ],
   "source": [
    "# Do the same positive/negative separation as https://www.csie.ntu.edu.tw/~cjlin/libsvmtools/datasets/binary.html\n",
    "POS_IDXS  = np.unique(np.union1d(CCAT_IDXS, ECAT_IDXS))\n",
    "NEG_IDXS  = np.unique(np.union1d(GCAT_IDXS, MCAT_IDXS))\n",
    "POS_AND_NEG = np.intersect1d(POS_IDXS, NEG_IDXS)\n",
    "POS_IDXS  = np.delete(POS_IDXS, POS_AND_NEG)\n",
    "NEG_IDXS  = np.delete(NEG_IDXS, POS_AND_NEG)"
   ]
  },
  {
   "cell_type": "code",
   "execution_count": 7,
   "metadata": {
    "collapsed": false
   },
   "outputs": [
    {
     "name": "stdout",
     "output_type": "stream",
     "text": [
      "# POS EXAMPLES (409667,)\n",
      "# NEG EXAMPLES (379903,)\n"
     ]
    }
   ],
   "source": [
    "print \"# POS EXAMPLES\", POS_IDXS.shape\n",
    "print \"# NEG EXAMPLES\", NEG_IDXS.shape"
   ]
  },
  {
   "cell_type": "code",
   "execution_count": 8,
   "metadata": {
    "collapsed": false
   },
   "outputs": [],
   "source": [
    "labels = np.zeros((rcv1.data.shape[0], 1))\n",
    "labels[POS_IDXS] = 1\n",
    "labels[NEG_IDXS] = -1"
   ]
  },
  {
   "cell_type": "code",
   "execution_count": 9,
   "metadata": {
    "collapsed": false
   },
   "outputs": [],
   "source": [
    "Corpus = sparse.csr_matrix(sparse.hstack((rcv1.data, labels)))"
   ]
  },
  {
   "cell_type": "code",
   "execution_count": 10,
   "metadata": {
    "collapsed": false
   },
   "outputs": [],
   "source": [
    "def ShuffleSparse(matrix):\n",
    "    index = np.arange(np.shape(matrix)[0])\n",
    "    np.random.shuffle(index)\n",
    "    return matrix[index, :]\n",
    "Train = ShuffleSparse(Corpus[0:20242, :])"
   ]
  },
  {
   "cell_type": "code",
   "execution_count": 11,
   "metadata": {
    "collapsed": false
   },
   "outputs": [],
   "source": [
    "\"\"\"\n",
    "Second, Train a Vanilla SVM with Standard SGD \n",
    "\"\"\"\n",
    "def SGD_1Epoch(data, model, lr = 0.01):\n",
    "    N_UPDATES = 0\n",
    "    N_TOTAL   = 0\n",
    "    for index in range(0, data.shape[0]):\n",
    "\n",
    "        N_TOTAL = N_TOTAL + 1\n",
    "        \n",
    "        feat = data[index, :-1]\n",
    "        label = data[index, -1]\n",
    "        \n",
    "        dot_prod = feat.dot(model)[0, 0]\n",
    "        \n",
    "        if 1 - dot_prod * label > 0:\n",
    "            grad = - label * feat\n",
    "            model = model - lr * grad.transpose()\n",
    "            N_UPDATES = N_UPDATES + 1\n",
    "    return (model, 1.0*N_UPDATES, 1.0*N_TOTAL)\n",
    "                           \n",
    "def SVM_Loss(data, model):\n",
    "    loss = 0.0\n",
    "    for index in range(0, data.shape[0]):\n",
    "        feat = data[index, :-1]\n",
    "        label = data[index, -1]\n",
    "        dot_prod = feat.dot(model)[0, 0]\n",
    "        loss = loss + max(0, 1 - dot_prod * label)\n",
    "    return loss / data.shape[0]"
   ]
  },
  {
   "cell_type": "code",
   "execution_count": 34,
   "metadata": {
    "collapsed": false
   },
   "outputs": [
    {
     "name": "stdout",
     "output_type": "stream",
     "text": [
      "1.0\n",
      "--TRAIN %Updates= 0.964183381089 0.5818222558\n",
      "--TRAIN %Updates= 0.762424661595 0.456488287603\n",
      "--TRAIN %Updates= 0.647465665448 0.399127286089\n",
      "--TRAIN %Updates= 0.577759114712 0.365957428764\n",
      "--TRAIN %Updates= 0.525442149985 0.344853629335\n",
      "--TRAIN %Updates= 0.490860586899 0.329597328109\n",
      "--TRAIN %Updates= 0.460379409149 0.318363741844\n",
      "--TRAIN %Updates= 0.436073510523 0.309650465491\n",
      "--TRAIN %Updates= 0.420017784804 0.302341716523\n",
      "--TRAIN %Updates= 0.406333366268\n"
     ]
    }
   ],
   "source": [
    "model = sparse.csr_matrix(np.zeros((np.shape(Train)[1]-1, 1))) # init random model\n",
    "NEPOCH = 10\n",
    "for iepoch in range(0, 10):\n",
    "    print SVM_Loss(Train, model)\n",
    "    (model, nupdate, ntotal) = SGD_1Epoch(Train, model)\n",
    "    print \"--TRAIN %Updates=\", nupdate/ntotal, "
   ]
  },
  {
   "cell_type": "code",
   "execution_count": 12,
   "metadata": {
    "collapsed": false
   },
   "outputs": [
    {
     "data": {
      "text/plain": [
       "'\\nThird, validate that normalizing the input to unit norm does not have impact on the quality\\n'"
      ]
     },
     "execution_count": 12,
     "metadata": {},
     "output_type": "execute_result"
    }
   ],
   "source": [
    "\"\"\"\n",
    "Third, validate that normalizing the input to unit norm does not have impact on the quality\n",
    "\"\"\""
   ]
  },
  {
   "cell_type": "code",
   "execution_count": 13,
   "metadata": {
    "collapsed": false
   },
   "outputs": [],
   "source": [
    "from sklearn.preprocessing import normalize\n",
    "Corpus_Normalized = sparse.csr_matrix(sparse.hstack((normalize(rcv1.data, axis=1, norm='l2'), labels)))"
   ]
  },
  {
   "cell_type": "code",
   "execution_count": 14,
   "metadata": {
    "collapsed": false
   },
   "outputs": [],
   "source": [
    "Train_Normalized = ShuffleSparse(Corpus_Normalized[0:20242, :])"
   ]
  },
  {
   "cell_type": "code",
   "execution_count": 15,
   "metadata": {
    "collapsed": false
   },
   "outputs": [
    {
     "name": "stdout",
     "output_type": "stream",
     "text": [
      "1.0\n",
      "--TRAIN %Updates= 0.96220729177 0.583140448668\n",
      "--TRAIN %Updates= 0.764746566545 0.456758284883\n",
      "--TRAIN %Updates= 0.650429799427 0.398720427414\n",
      "--TRAIN %Updates= 0.576820472285 0.365821187071\n",
      "--TRAIN %Updates= 0.524750518723 0.34483980026\n",
      "--TRAIN %Updates= 0.491354609228 0.329558705978\n",
      "--TRAIN %Updates= 0.461021638178 0.318295067875\n",
      "--TRAIN %Updates= 0.435777097125 0.309619406744\n",
      "--TRAIN %Updates= 0.419770773639 0.30233732441\n",
      "--TRAIN %Updates= 0.406333366268\n"
     ]
    }
   ],
   "source": [
    "model = sparse.csr_matrix(np.zeros((np.shape(Train)[1]-1, 1))) # init random model\n",
    "NEPOCH = 10\n",
    "for iepoch in range(0, 10):\n",
    "    print SVM_Loss(Train_Normalized, model)\n",
    "    (model, nupdate, ntotal) = SGD_1Epoch(Train_Normalized, model)\n",
    "    print \"--TRAIN %Updates=\", nupdate/ntotal, "
   ]
  },
  {
   "cell_type": "code",
   "execution_count": 48,
   "metadata": {
    "collapsed": false
   },
   "outputs": [],
   "source": [
    "\"\"\"\n",
    "Forth, validate that whether update happens is correlated to nearest neighbor to the model\n",
    "\"\"\"\n",
    "distances = []\n",
    "isupdates = []\n",
    "model_norm = sparse.linalg.norm(model)\n",
    "for index in range(0, Train_Normalized.shape[0]):\n",
    "    feat = Train_Normalized[index, :-1]\n",
    "    label = Train_Normalized[index, -1]    \n",
    "    dot_prod = feat.dot(model)[0, 0]\n",
    "\n",
    "    if 1 - dot_prod * label > 0: \n",
    "        is_update = 1 \n",
    "    else: \n",
    "        is_update = 0\n",
    "        \n",
    "    if label > 0: # Negative Examples should be indexed separately, in a very simialr way\n",
    "        distance = sparse.linalg.norm((- model)  - feat.transpose())\n",
    "        distances.append(distance)\n",
    "        isupdates.append(is_update)\n",
    "    if label < 0:\n",
    "        distance = sparse.linalg.norm((model)  - feat.transpose())\n",
    "        distances.append(distance)\n",
    "        isupdates.append(is_update)\n",
    "        "
   ]
  },
  {
   "cell_type": "code",
   "execution_count": 49,
   "metadata": {
    "collapsed": false
   },
   "outputs": [
    {
     "data": {
      "image/png": "[encoded data removed]",
      "text/plain": [
       "<matplotlib.figure.Figure at 0x103f98dd0>"
      ]
     },
     "metadata": {},
     "output_type": "display_data"
    }
   ],
   "source": [
    "plt.scatter(distances, isupdates)\n",
    "plt.xlabel('Distance between positive datapoint to negative model')\n",
    "plt.ylabel('Whether data point is updated')\n",
    "plt.show()"
   ]
  },
  {
   "cell_type": "code",
   "execution_count": 51,
   "metadata": {
    "collapsed": false
   },
   "outputs": [],
   "source": [
    "import math\n",
    "C = math.sqrt(model_norm**2 + 3)"
   ]
  },
  {
   "cell_type": "code",
   "execution_count": 53,
   "metadata": {
    "collapsed": false
   },
   "outputs": [
    {
     "name": "stdout",
     "output_type": "stream",
     "text": [
      "26.1548037953\n"
     ]
    }
   ],
   "source": [
    "print C"
   ]
  },
  {
   "cell_type": "code",
   "execution_count": 60,
   "metadata": {
    "collapsed": false
   },
   "outputs": [
    {
     "data": {
      "image/png": "[encoded data removed]",
      "text/plain": [
       "<matplotlib.figure.Figure at 0x123bbba90>"
      ]
     },
     "metadata": {},
     "output_type": "display_data"
    }
   ],
   "source": [
    "plt.scatter(distances, isupdates)\n",
    "plt.xlabel('Distance between positive datapoint to negative model')\n",
    "plt.ylabel('Whether data point is updated')\n",
    "plt.plot([C, C], [-0.2, 1.2], '-o')\n",
    "plt.show()"
   ]
  },
  {
   "cell_type": "code",
   "execution_count": null,
   "metadata": {
    "collapsed": true
   },
   "outputs": [],
   "source": []
  }
 ],
 "metadata": {
  "kernelspec": {
   "display_name": "Python 2",
   "language": "python",
   "name": "python2"
  },
  "language_info": {
   "codemirror_mode": {
    "name": "ipython",
    "version": 2
   },
   "file_extension": ".py",
   "mimetype": "text/x-python",
   "name": "python",
   "nbconvert_exporter": "python",
   "pygments_lexer": "ipython2",
   "version": "2.7.11"
  }
 },
 "nbformat": 4,
 "nbformat_minor": 0
}
